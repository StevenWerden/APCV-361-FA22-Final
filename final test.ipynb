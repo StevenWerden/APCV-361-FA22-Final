{
 "cells": [
  {
   "cell_type": "code",
   "execution_count": null,
   "id": "e9eb5b52",
   "metadata": {},
   "outputs": [],
   "source": [
    "import random\n",
    "import math\n",
    "import numpy as np\n",
    "import matplotlib.pyplot as plt\n",
    "from scipy import stats\n",
    "%matplotlib inline"
   ]
  },
  {
   "cell_type": "code",
   "execution_count": null,
   "id": "eb541bbf",
   "metadata": {},
   "outputs": [],
   "source": [
    "print(str(np.mean(dataset)))\n",
    "print(str(np.median(dataset)))\n",
    "print(str(stats.mode(dataset)))\n",
    "popMean = sum(dataset)/len(dataset)\n",
    "st = np.std(dataset)"
   ]
  },
  {
   "cell_type": "code",
   "execution_count": null,
   "id": "155eb2f9",
   "metadata": {},
   "outputs": [],
   "source": [
    "class County(self):\n",
    "    self.year = year\n",
    "    self.datatype = datatype\n",
    "     \n",
    "class Stat(Year):\n",
    "    self.number = number\n",
    "    self.percent = percent\n",
    "    self.zscor = zscor\n",
    "    self.cihi = cihi\n",
    "    self.cilo = cilo\n",
    "    \n",
    "    def getX(self):\n",
    "        # return X axis\n",
    "        return self.x\n",
    "    \n",
    "    def getY(self):\n",
    "        # retunr Y axis\n",
    "        return self.y\n",
    "    \n",
    "    def distFrom(self, other):\n",
    "    xdist = self.x - other.getX()\n",
    "    ydist = self.y - other.getY()\n",
    "    calc = (xdist**2 + ydist**2)**0.5 \n",
    "    return calc"
   ]
  },
  {
   "cell_type": "code",
   "execution_count": null,
   "id": "24985b15",
   "metadata": {},
   "outputs": [],
   "source": [
    "class styleIterator(object):\n",
    "    \n",
    "    def __init__(self, styles):\n",
    "        self.index = 0\n",
    "        self.style = styles\n",
    "        \n",
    "    def newStyle(self):\n",
    "        bank = self.style[self.index]\n",
    "        if self.index == len(self.style) - 1:\n",
    "            self.index = 0\n",
    "        else:\n",
    "            self.index += 1\n",
    "        return bank\n",
    "    \n",
    "styleChoice = styleIterator(('rs', 'b^', 'mo','k+'))"
   ]
  },
  {
   "cell_type": "code",
   "execution_count": null,
   "id": "8e108621",
   "metadata": {},
   "outputs": [],
   "source": [
    "\n",
    "def load_county(filename):\n",
    "\n",
    "    data = []\n",
    "    f = open(filename, 'r')\n",
    "    for line in f:\n",
    "        bank = line.split(',')\n",
    "        data.append()\n",
    "    f.close()\n",
    "    return data"
   ]
  },
  {
   "cell_type": "code",
   "execution_count": null,
   "id": "df8843bc",
   "metadata": {},
   "outputs": [],
   "source": [
    "def axis(para):\n",
    "    '''For each list created in the class, before creating the grid. The creator requires the constraints of the axis\n",
    "    upon call the funciton will print the min and max of a list.\n",
    "    parameter: a list of numbers'''  \n",
    "    \n",
    "    minn = para[0]\n",
    "    maxx = para[0]\n",
    "    # Set the variables to compare the rest of the list as the numbers are traversed and compared\n",
    "    for val in para: # iterating over each element in a list\n",
    "        if val < minn: #checking for minimum\n",
    "            minn = val\n",
    "        elif val > maxx: #checking for maximum\n",
    "            maxx = val\n",
    "        # After loop has finialized print the min and max for a single axis\n",
    "    print('min = ' + str(minn), 'max = ' + str(maxx))\n"
   ]
  },
  {
   "cell_type": "code",
   "execution_count": null,
   "id": "6480baea",
   "metadata": {},
   "outputs": [],
   "source": [
    "def hist(x,y)\n",
    "    plt.grid(True)\n",
    "    plt.style.use('classic')\n",
    "    plt.style.use('seaborn-whitegrid')\n",
    "    n, bins, patchs= plt.hist([x,y],20,stacked=True, density=True, color=['skyblue','pink'])\n",
    "    plt.show()  "
   ]
  },
  {
   "cell_type": "code",
   "execution_count": null,
   "id": "c19b1727",
   "metadata": {},
   "outputs": [],
   "source": [
    "def scatter(xp,xu,yp,yu):\n",
    "    plt.plot(np.array(xp),np.array(yp), 'go') \n",
    "    plt.plot(np.array(xu),np.array(yu),'r*')\n",
    "    plt.style.use('classic')\n",
    "    plt.style.use('seaborn-whitegrid')\n",
    "    plt.grid(True)  \n",
    "    plt.show()\n"
   ]
  },
  {
   "cell_type": "code",
   "execution_count": null,
   "id": "967b0a86",
   "metadata": {},
   "outputs": [],
   "source": [
    "def line(x,y):\n",
    "    plotbasic()\n",
    "    plt.plot(x,y,'bo')\n",
    "    a,b = np.polyfit(x, y, 1)\n",
    "    estY = a*np.array(x) + b\n",
    "    plt.plot(x, estY,\n",
    "           label = 'Linear Model', linewidth=3.0, color='r')\n",
    "    plt.legend(loc=\"best\")\n",
    "    plt.show()"
   ]
  },
  {
   "cell_type": "code",
   "execution_count": null,
   "id": "f44c50da",
   "metadata": {},
   "outputs": [],
   "source": [
    "def perbela(x,y):\n",
    "    plotbasic()\n",
    "    plt.plot(x,y,'bo')\n",
    "    model = np.polyfit(x,y,2)\n",
    "    plt.plot(x, np.polyval(model, x),\n",
    "           label = 'Parabolic Model', linewidth=3.0, color='y')\n",
    "    plt.legend(loc=\"best\")\n",
    "    plt.show()"
   ]
  },
  {
   "cell_type": "code",
   "execution_count": null,
   "id": "814b1206",
   "metadata": {},
   "outputs": [],
   "source": [
    "def cubic(x,y):\n",
    "    plotbasic()\n",
    "    plt.plot(x,y,'bo')\n",
    "    model = np.polyfit(x,y,3)\n",
    "    plt.plot(x, np.polyval(model, x),\n",
    "           label = 'Cubic Model', linewidth=3.0, color='c')\n",
    "    plt.legend(loc=\"best\")\n",
    "    plt.show()"
   ]
  },
  {
   "cell_type": "code",
   "execution_count": null,
   "id": "19cedca5",
   "metadata": {},
   "outputs": [],
   "source": [
    "def rSq(data, predic):\n",
    "    error = ((predic - data)**2).sum()\n",
    "    meanData = data.sum()/len(data)\n",
    "    vari = ((data-meanData)**2).sum()\n",
    "    return 1 - (error/vari)"
   ]
  },
  {
   "cell_type": "code",
   "execution_count": null,
   "id": "5e629172",
   "metadata": {},
   "outputs": [],
   "source": [
    "{\n",
    " \"cells\": [\n",
    "  {\n",
    "   \"cell_type\": \"code\",\n",
    "   \"execution_count\": null,\n",
    "   \"id\": \"3d06c4dd\",\n",
    "   \"metadata\": {},\n",
    "   \"outputs\": [],\n",
    "   \"source\": [\n",
    "    \"# Just creating something to push to git\"\n",
    "   ]\n",
    "  }\n",
    " ],\n",
    " \"metadata\": {\n",
    "  \"kernelspec\": {\n",
    "   \"display_name\": \"Python 3 (ipykernel)\",\n",
    "   \"language\": \"python\",\n",
    "   \"name\": \"python3\"\n",
    "  },\n",
    "  \"language_info\": {\n",
    "   \"codemirror_mode\": {\n",
    "    \"name\": \"ipython\",\n",
    "    \"version\": 3\n",
    "   },\n",
    "   \"file_extension\": \".py\",\n",
    "   \"mimetype\": \"text/x-python\",\n",
    "   \"name\": \"python\",\n",
    "   \"nbconvert_exporter\": \"python\",\n",
    "   \"pygments_lexer\": \"ipython3\",\n",
    "   \"version\": \"3.9.12\"\n",
    "  }\n",
    " },\n",
    " \"nbformat\": 4,\n",
    " \"nbformat_minor\": 5\n",
    "}"
   ]
  }
 ],
 "metadata": {
  "kernelspec": {
   "display_name": "Python 3 (ipykernel)",
   "language": "python",
   "name": "python3"
  },
  "language_info": {
   "codemirror_mode": {
    "name": "ipython",
    "version": 3
   },
   "file_extension": ".py",
   "mimetype": "text/x-python",
   "name": "python",
   "nbconvert_exporter": "python",
   "pygments_lexer": "ipython3",
   "version": "3.9.12"
  }
 },
 "nbformat": 4,
 "nbformat_minor": 5
}
