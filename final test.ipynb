{
 "cells": [
  {
   "cell_type": "code",
   "execution_count": null,
   "id": "e4fb5854",
   "metadata": {},
   "outputs": [],
   "source": [
    "import random\n",
    "import math\n",
    "import numpy as np\n",
    "import matplotlib.pyplot as plt\n",
    "from scipy import stats\n",
    "%matplotlib inline"
   ]
  },
  {
   "cell_type": "code",
   "execution_count": null,
   "id": "10896a91",
   "metadata": {},
   "outputs": [],
   "source": [
    "print(str(np.mean(dataset)))\n",
    "print(str(np.median(dataset)))\n",
    "print(str(stats.mode(dataset)))\n",
    "popMean = sum(dataset)/len(dataset)\n",
    "st = np.std(dataset)"
   ]
  },
  {
   "cell_type": "code",
   "execution_count": null,
   "id": "155eb2f9",
   "metadata": {},
   "outputs": [],
   "source": [
    "class County(self):\n",
    "    self.year = year\n",
    "    self.datatype = datatype\n",
    "     \n",
    "class Stat(Year):\n",
    "    self.number = number\n",
    "    self.percent = percent\n",
    "    self.zscor = zscor\n",
    "    self.cihi = cihi\n",
    "    self.cilo = cilo\n",
    "    \n",
    "    def getX(self):\n",
    "        # return X axis\n",
    "        return self.x\n",
    "    \n",
    "    def getY(self):\n",
    "        # retunr Y axis\n",
    "        return self.y\n",
    "    \n",
    "    def distFrom(self, other):\n",
    "    xdist = self.x - other.getX()\n",
    "    ydist = self.y - other.getY()\n",
    "    calc = (xdist**2 + ydist**2)**0.5 \n",
    "    return calc"
   ]
  },
  {
   "cell_type": "code",
   "execution_count": null,
   "id": "d5274749",
   "metadata": {},
   "outputs": [],
   "source": [
    "class styleIterator(object):\n",
    "    \n",
    "    def __init__(self, styles):\n",
    "        self.index = 0\n",
    "        self.style = styles\n",
    "        \n",
    "    def newStyle(self):\n",
    "        bank = self.style[self.index]\n",
    "        if self.index == len(self.style) - 1:\n",
    "            self.index = 0\n",
    "        else:\n",
    "            self.index += 1\n",
    "        return bank\n",
    "    \n",
    "styleChoice = styleIterator(('rs', 'b^', 'mo','k+'))"
   ]
  },
  {
   "cell_type": "code",
   "execution_count": null,
   "id": "47803343",
   "metadata": {},
   "outputs": [],
   "source": [
    "\n",
    "def load_county(filename):\n",
    "\n",
    "    data = []\n",
    "    f = open(filename, 'r')\n",
    "    for line in f:\n",
    "        bank = line.split(',')\n",
    "        data.append()\n",
    "    f.close()\n",
    "    return data"
   ]
  },
  {
   "cell_type": "code",
   "execution_count": null,
   "id": "d48cea55",
   "metadata": {},
   "outputs": [],
   "source": [
    "def axis(para):\n",
    "    '''For each list created in the class, before creating the grid. The creator requires the constraints of the axis\n",
    "    upon call the funciton will print the min and max of a list.\n",
    "    parameter: a list of numbers'''  \n",
    "    \n",
    "    minn = para[0]\n",
    "    maxx = para[0]\n",
    "    # Set the variables to compare the rest of the list as the numbers are traversed and compared\n",
    "    for val in para: # iterating over each element in a list\n",
    "        if val < minn: #checking for minimum\n",
    "            minn = val\n",
    "        elif val > maxx: #checking for maximum\n",
    "            maxx = val\n",
    "        # After loop has finialized print the min and max for a single axis\n",
    "    print('min = ' + str(minn), 'max = ' + str(maxx))\n"
   ]
  },
  {
   "cell_type": "code",
   "execution_count": null,
   "id": "2959e3df",
   "metadata": {},
   "outputs": [],
   "source": [
    "def hist(x,y)\n",
    "    plt.grid(True)\n",
    "    plt.style.use('classic')\n",
    "    plt.style.use('seaborn-whitegrid')\n",
    "    n, bins, patchs= plt.hist([x,y],20,stacked=True, density=True, color=['skyblue','pink'])\n",
    "    plt.show()  "
   ]
  },
  {
   "cell_type": "code",
   "execution_count": null,
   "id": "16b7e56d",
   "metadata": {},
   "outputs": [],
   "source": [
    "def scatter(xp,xu,yp,yu):\n",
    "    plt.plot(np.array(xp),np.array(yp), 'go') \n",
    "    plt.plot(np.array(xu),np.array(yu),'r*')\n",
    "    plt.style.use('classic')\n",
    "    plt.style.use('seaborn-whitegrid')\n",
    "    plt.grid(True)  \n",
    "    plt.show()\n"
   ]
  },
  {
   "cell_type": "code",
   "execution_count": null,
   "id": "48894e09",
   "metadata": {},
   "outputs": [],
   "source": [
    "def line(x,y):\n",
    "    plotbasic()\n",
    "    plt.plot(x,y,'bo')\n",
    "    a,b = np.polyfit(x, y, 1)\n",
    "    estY = a*np.array(x) + b\n",
    "    plt.plot(x, estY,\n",
    "           label = 'Linear Model', linewidth=3.0, color='r')\n",
    "    plt.legend(loc=\"best\")\n",
    "    plt.show()"
   ]
  },
  {
   "cell_type": "code",
   "execution_count": null,
   "id": "9497adb9",
   "metadata": {},
   "outputs": [],
   "source": [
    "def perbela(x,y):\n",
    "    plotbasic()\n",
    "    plt.plot(x,y,'bo')\n",
    "    model = np.polyfit(x,y,2)\n",
    "    plt.plot(x, np.polyval(model, x),\n",
    "           label = 'Parabolic Model', linewidth=3.0, color='y')\n",
    "    plt.legend(loc=\"best\")\n",
    "    plt.show()"
   ]
  },
  {
   "cell_type": "code",
   "execution_count": null,
   "id": "c16117a1",
   "metadata": {},
   "outputs": [],
   "source": [
    "def cubic(x,y):\n",
    "    plotbasic()\n",
    "    plt.plot(x,y,'bo')\n",
    "    model = np.polyfit(x,y,3)\n",
    "    plt.plot(x, np.polyval(model, x),\n",
    "           label = 'Cubic Model', linewidth=3.0, color='c')\n",
    "    plt.legend(loc=\"best\")\n",
    "    plt.show()"
   ]
  },
  {
   "cell_type": "code",
   "execution_count": null,
   "id": "36a660d4",
   "metadata": {},
   "outputs": [],
   "source": [
    "def rSq(data, predic):\n",
    "    error = ((predic - data)**2).sum()\n",
    "    meanData = data.sum()/len(data)\n",
    "    vari = ((data-meanData)**2).sum()\n",
    "    return 1 - (error/vari)"
   ]
  },
  {
   "cell_type": "code",
   "execution_count": null,
   "id": "25842bd2",
   "metadata": {},
   "outputs": [],
   "source": []
  }
 ],
 "metadata": {
  "kernelspec": {
   "display_name": "Python 3 (ipykernel)",
   "language": "python",
   "name": "python3"
  },
  "language_info": {
   "codemirror_mode": {
    "name": "ipython",
    "version": 3
   },
   "file_extension": ".py",
   "mimetype": "text/x-python",
   "name": "python",
   "nbconvert_exporter": "python",
   "pygments_lexer": "ipython3",
   "version": "3.9.12"
  }
 },
 "nbformat": 4,
 "nbformat_minor": 5
}
