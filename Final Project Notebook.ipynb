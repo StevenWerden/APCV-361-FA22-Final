{
 "cells": [
  {
   "cell_type": "code",
   "execution_count": 68,
   "id": "cb426180",
   "metadata": {
    "scrolled": false
   },
   "outputs": [
    {
     "data": {
      "image/png": "[encoded data removed]",
      "text/plain": [
       "<Figure size 432x288 with 1 Axes>"
      ]
     },
     "metadata": {
      "needs_background": "light"
     },
     "output_type": "display_data"
    }
   ],
   "source": [
    "import matplotlib.pyplot as plt\n",
    "import numpy as np\n",
    "import pandas as pd\n",
    "    \n",
    "def openFile(fileName):\n",
    "    fileRead = pd.read_csv(fileName)\n",
    "    fileRead = fileRead.dropna() # Removes empty cells\n",
    "    return fileRead\n",
    "\n",
    "def getStateData(fileName):\n",
    "    valuesState = []\n",
    "    readState = openFile(fileName)\n",
    "    state2022 = readState.loc[readState[\"State\"] == \"2022\"]\n",
    "    \n",
    "    totalUninsuredState = 0\n",
    "    for cell in state2022[\"Unnamed: 4\"]: # % Uninsured\n",
    "        totalUninsuredState += int(cell)\n",
    "    valuesState.append(totalUninsuredState)\n",
    "    \n",
    "    totalUnemployedState = 0\n",
    "    for cell in state2022[\"Unnamed: 11\"]: # % Unemployed\n",
    "        totalUnemployedState += int(cell)\n",
    "    valuesState.append(totalUnemployedState)\n",
    "    \n",
    "    totalHomeownersState = 0\n",
    "    for cell in state2022[\"Unnamed: 28\"]: # % Homeownership\n",
    "        totalHomeownersState += int(cell)\n",
    "    valuesState.append(totalHomeownersState)\n",
    "    \n",
    "    totalCostBurdenState = 0\n",
    "    for cell in state2022[\"Unnamed: 32\"]: # % Housing cost burden\n",
    "        totalCostBurdenState += int(cell)\n",
    "    valuesState.append(totalCostBurdenState)\n",
    "    \n",
    "    return valuesState\n",
    "\n",
    "def interpret2022Data():\n",
    "    pd.set_option('display.max_rows', None) # Allows for all rows to be printed\n",
    "    axisLabels = [\"Uninsured\", \"Unemployed\", \"Homeowners\", \"Cost Burden\"]\n",
    "    valuesCA = getStateData(\"California.csv\")\n",
    "    valuesWY = getStateData(\"Wyoming.csv\")\n",
    "    valuesSC = getStateData(\"SouthCarolina.csv\")\n",
    "        \n",
    "    xvalue = np.arange(4)\n",
    "    w = 0.2\n",
    "    ax = plt.subplot(111)\n",
    "    california = ax.bar(xvalue-0.2, valuesCA, width = w, align='center')\n",
    "    wyoming = ax.bar(xvalue, valuesWY, width = w, align='center')\n",
    "    southCarolina = ax.bar(xvalue+0.2, valuesSC, width = w, align='center')\n",
    "    plt.xticks(xvalue, axisLabels)\n",
    "    ax.legend((california[0], wyoming[0], southCarolina[0]), ('CA', 'WY', 'SC'))\n",
    "    plt.title(\"Percentage of \")\n",
    "    plt.show()\n",
    "    \n",
    "interpret2022Data()\n",
    "# TODO: Do different years also make scatterplots/clusters/historgrams\n",
    "# Change frame of data to what is established in 'Project Data.csv'"
   ]
  },
  {
   "cell_type": "code",
   "execution_count": null,
   "id": "61acd4bf",
   "metadata": {},
   "outputs": [],
   "source": []
  }
 ],
 "metadata": {
  "kernelspec": {
   "display_name": "Python 3 (ipykernel)",
   "language": "python",
   "name": "python3"
  },
  "language_info": {
   "codemirror_mode": {
    "name": "ipython",
    "version": 3
   },
   "file_extension": ".py",
   "mimetype": "text/x-python",
   "name": "python",
   "nbconvert_exporter": "python",
   "pygments_lexer": "ipython3",
   "version": "3.9.12"
  }
 },
 "nbformat": 4,
 "nbformat_minor": 5
}
