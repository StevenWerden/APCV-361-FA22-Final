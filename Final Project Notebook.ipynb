{
 "cells": [
  {
   "cell_type": "code",
   "execution_count": 89,
   "id": "61acd4bf",
   "metadata": {},
   "outputs": [
    {
     "data": {
      "image/png": "[encoded data removed]",
      "text/plain": [
       "<Figure size 432x288 with 1 Axes>"
      ]
     },
     "metadata": {
      "needs_background": "light"
     },
     "output_type": "display_data"
    }
   ],
   "source": [
    "import matplotlib.pyplot as plt\n",
    "import numpy as np\n",
    "import pandas as pd\n",
    "\n",
    "def openAll(fileName):\n",
    "    df = pd.read_csv(fileName)\n",
    "    return df\n",
    "\n",
    "def getData(fileName):\n",
    "    readFile = openAll(fileName)\n",
    "    return readFile\n",
    "\n",
    "def getStateYear(readFile, year, state):\n",
    "    readState = readFile.loc[lambda readFile: readFile[\"Year\"] == year]\n",
    "    readStateYear = readState.loc[lambda readState: readState[\"State\"] == state]\n",
    "    return readStateYear\n",
    "\n",
    "def sumCells(data, column):\n",
    "    returnValue = 0\n",
    "    for cell in data[column]:\n",
    "        returnValue += cell\n",
    "    return returnValue\n",
    "\n",
    "def percentBarGraph2022(readFile):\n",
    "    stateValues = [[], [], []]\n",
    "    states = [\"California\", \"Wyoming\", \"South Carolina\"]\n",
    "    for i in range(len(stateValues)):\n",
    "        state2022 = getStateYear(readFile, 2022, states[i])\n",
    "        stateValues[i].append(sumCells(state2022, \"Uninsured %\"))\n",
    "        stateValues[i].append(sumCells(state2022, \"Unemployed %\"))\n",
    "        stateValues[i].append(sumCells(state2022, \"Homeowners %\"))\n",
    "        stateValues[i].append(sumCells(state2022, \"Severe Housing Cost Burden %\"))\n",
    "    xvalue = np.arange(4)\n",
    "    w = 0.2\n",
    "    ax = plt.subplot(111)\n",
    "    axisLabels = [\"Uninsured\", \"Unemployed\", \"Homeowners\", \"Cost Burden\"]\n",
    "    california = ax.bar(xvalue-0.2, stateValues[0], width = w, align='center')\n",
    "    wyoming = ax.bar(xvalue, stateValues[1], width = w, align='center')\n",
    "    southCarolina = ax.bar(xvalue+0.2, stateValues[2], width = w, align='center')\n",
    "    plt.xticks(xvalue, axisLabels)\n",
    "    ax.legend((california[0], wyoming[0], southCarolina[0]), ('CA', 'WY', 'SC'))\n",
    "    plt.title(\"States' % Value of Homemlessness Factors in 2022\")\n",
    "    plt.ylabel(\"Sum of County Percentages\")\n",
    "    plt.show()\n",
    "\n",
    "    \n",
    "def interpretData():\n",
    "    pd.set_option('display.max_rows', None) # Allows for all rows to be printed\n",
    "    readFile = getData(\"Project Data.csv\")\n",
    "    percentBarGraph2022(readFile)\n",
    "    \n",
    "    \n",
    "interpretData()"
   ]
  },
  {
   "cell_type": "code",
   "execution_count": null,
   "id": "2a1599e0",
   "metadata": {},
   "outputs": [],
   "source": []
  }
 ],
 "metadata": {
  "kernelspec": {
   "display_name": "Python 3 (ipykernel)",
   "language": "python",
   "name": "python3"
  },
  "language_info": {
   "codemirror_mode": {
    "name": "ipython",
    "version": 3
   },
   "file_extension": ".py",
   "mimetype": "text/x-python",
   "name": "python",
   "nbconvert_exporter": "python",
   "pygments_lexer": "ipython3",
   "version": "3.9.12"
  }
 },
 "nbformat": 4,
 "nbformat_minor": 5
}
