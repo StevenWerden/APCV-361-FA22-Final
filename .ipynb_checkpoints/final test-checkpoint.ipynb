{
 "cells": [
  {
   "cell_type": "code",
   "execution_count": 1,
   "id": "e4fb5854",
   "metadata": {},
   "outputs": [],
   "source": [
    "import random\n",
    "import math\n",
    "import numpy as np\n",
    "import matplotlib.pyplot as plt\n",
    "from scipy import stats\n",
    "%matplotlib inline"
   ]
  },
  {
   "cell_type": "code",
   "execution_count": 2,
   "id": "10896a91",
   "metadata": {},
   "outputs": [
    {
     "ename": "NameError",
     "evalue": "name 'dataset' is not defined",
     "output_type": "error",
     "traceback": [
      "\u001b[1;31m---------------------------------------------------------------------------\u001b[0m",
      "\u001b[1;31mNameError\u001b[0m                                 Traceback (most recent call last)",
      "Input \u001b[1;32mIn [2]\u001b[0m, in \u001b[0;36m<cell line: 1>\u001b[1;34m()\u001b[0m\n\u001b[1;32m----> 1\u001b[0m \u001b[38;5;28mprint\u001b[39m(\u001b[38;5;28mstr\u001b[39m(np\u001b[38;5;241m.\u001b[39mmean(\u001b[43mdataset\u001b[49m)))\n\u001b[0;32m      2\u001b[0m \u001b[38;5;28mprint\u001b[39m(\u001b[38;5;28mstr\u001b[39m(np\u001b[38;5;241m.\u001b[39mmedian(dataset)))\n\u001b[0;32m      3\u001b[0m \u001b[38;5;28mprint\u001b[39m(\u001b[38;5;28mstr\u001b[39m(stats\u001b[38;5;241m.\u001b[39mmode(dataset)))\n",
      "\u001b[1;31mNameError\u001b[0m: name 'dataset' is not defined"
     ]
    }
   ],
   "source": [
    "print(str(np.mean(dataset)))\n",
    "print(str(np.median(dataset)))\n",
    "print(str(stats.mode(dataset)))\n",
    "popMean = sum(dataset)/len(dataset)\n",
    "st = np.std(dataset)"
   ]
  },
  {
   "cell_type": "code",
   "execution_count": null,
   "id": "155eb2f9",
   "metadata": {},
   "outputs": [],
   "source": [
    "class County(self):\n",
    "    self.year = year\n",
    "    self.datatype = datatype\n",
    "     \n",
    "class Stat(Year):\n",
    "    self.number = number\n",
    "    self.percent = percent\n",
    "    self.zscor = zscor\n",
    "    self.cihi = cihi\n",
    "    self.cilo = cilo\n",
    "    \n",
    "    def getX(self):\n",
    "        # return X axis\n",
    "        return self.x\n",
    "    \n",
    "    def getY(self):\n",
    "        # retunr Y axis\n",
    "        return self.y\n",
    "    \n",
    "    def distFrom(self, other):\n",
    "    xdist = self.x - other.getX()\n",
    "    ydist = self.y - other.getY()\n",
    "    calc = (xdist**2 + ydist**2)**0.5 \n",
    "    return calc"
   ]
  },
  {
   "cell_type": "code",
   "execution_count": 3,
   "id": "d5274749",
   "metadata": {},
   "outputs": [],
   "source": [
    "class styleIterator(object):\n",
    "    \n",
    "    def __init__(self, styles):\n",
    "        self.index = 0\n",
    "        self.style = styles\n",
    "        \n",
    "    def newStyle(self):\n",
    "        bank = self.style[self.index]\n",
    "        if self.index == len(self.style) - 1:\n",
    "            self.index = 0\n",
    "        else:\n",
    "            self.index += 1\n",
    "        return bank\n",
    "    \n",
    "styleChoice = styleIterator(('rs', 'b^', 'mo','k+'))"
   ]
  },
  {
   "cell_type": "code",
   "execution_count": 4,
   "id": "47803343",
   "metadata": {},
   "outputs": [],
   "source": [
    "\n",
    "def load_county(filename):\n",
    "\n",
    "    data = []\n",
    "    f = open(filename, 'r')\n",
    "    for line in f:\n",
    "        bank = line.split(',')\n",
    "        data.append()\n",
    "    f.close()\n",
    "    return data"
   ]
  },
  {
   "cell_type": "code",
   "execution_count": 5,
   "id": "d48cea55",
   "metadata": {},
   "outputs": [],
   "source": [
    "def axis(para):\n",
    "    '''For each list created in the class, before creating the grid. The creator requires the constraints of the axis\n",
    "    upon call the funciton will print the min and max of a list.\n",
    "    parameter: a list of numbers'''  \n",
    "    \n",
    "    minn = para[0]\n",
    "    maxx = para[0]\n",
    "    # Set the variables to compare the rest of the list as the numbers are traversed and compared\n",
    "    for val in para: # iterating over each element in a list\n",
    "        if val < minn: #checking for minimum\n",
    "            minn = val\n",
    "        elif val > maxx: #checking for maximum\n",
    "            maxx = val\n",
    "        # After loop has finialized print the min and max for a single axis\n",
    "    print('min = ' + str(minn), 'max = ' + str(maxx))\n"
   ]
  },
  {
   "cell_type": "code",
   "execution_count": 6,
   "id": "2959e3df",
   "metadata": {},
   "outputs": [
    {
     "ename": "SyntaxError",
     "evalue": "invalid syntax (2332743357.py, line 1)",
     "output_type": "error",
     "traceback": [
      "\u001b[1;36m  Input \u001b[1;32mIn [6]\u001b[1;36m\u001b[0m\n\u001b[1;33m    def hist(x,y)\u001b[0m\n\u001b[1;37m                 ^\u001b[0m\n\u001b[1;31mSyntaxError\u001b[0m\u001b[1;31m:\u001b[0m invalid syntax\n"
     ]
    }
   ],
   "source": [
    "def hist(x,y)\n",
    "    plt.grid(True)\n",
    "    plt.style.use('classic')\n",
    "    plt.style.use('seaborn-whitegrid')\n",
    "    n, bins, patchs= plt.hist([x,y],20,stacked=True, density=True, color=['skyblue','pink'])\n",
    "    plt.show()  "
   ]
  },
  {
   "cell_type": "code",
   "execution_count": 7,
   "id": "16b7e56d",
   "metadata": {},
   "outputs": [],
   "source": [
    "def scatter(xp,xu,yp,yu):\n",
    "    plt.plot(np.array(xp),np.array(yp), 'go') \n",
    "    plt.plot(np.array(xu),np.array(yu),'r*')\n",
    "    plt.style.use('classic')\n",
    "    plt.style.use('seaborn-whitegrid')\n",
    "    plt.grid(True)  \n",
    "    plt.show()\n"
   ]
  },
  {
   "cell_type": "code",
   "execution_count": 8,
   "id": "48894e09",
   "metadata": {},
   "outputs": [],
   "source": [
    "def line(x,y):\n",
    "    plotbasic()\n",
    "    plt.plot(x,y,'bo')\n",
    "    a,b = np.polyfit(x, y, 1)\n",
    "    estY = a*np.array(x) + b\n",
    "    plt.plot(x, estY,\n",
    "           label = 'Linear Model', linewidth=3.0, color='r')\n",
    "    plt.legend(loc=\"best\")\n",
    "    plt.show()"
   ]
  },
  {
   "cell_type": "code",
   "execution_count": 9,
   "id": "9497adb9",
   "metadata": {},
   "outputs": [],
   "source": [
    "def perbela(x,y):\n",
    "    plotbasic()\n",
    "    plt.plot(x,y,'bo')\n",
    "    model = np.polyfit(x,y,2)\n",
    "    plt.plot(x, np.polyval(model, x),\n",
    "           label = 'Parabolic Model', linewidth=3.0, color='y')\n",
    "    plt.legend(loc=\"best\")\n",
    "    plt.show()"
   ]
  },
  {
   "cell_type": "code",
   "execution_count": 10,
   "id": "c16117a1",
   "metadata": {},
   "outputs": [],
   "source": [
    "def cubic(x,y):\n",
    "    plotbasic()\n",
    "    plt.plot(x,y,'bo')\n",
    "    model = np.polyfit(x,y,3)\n",
    "    plt.plot(x, np.polyval(model, x),\n",
    "           label = 'Cubic Model', linewidth=3.0, color='c')\n",
    "    plt.legend(loc=\"best\")\n",
    "    plt.show()"
   ]
  },
  {
   "cell_type": "code",
   "execution_count": 11,
   "id": "36a660d4",
   "metadata": {},
   "outputs": [],
   "source": [
    "def rSq(data, predic):\n",
    "    error = ((predic - data)**2).sum()\n",
    "    meanData = data.sum()/len(data)\n",
    "    vari = ((data-meanData)**2).sum()\n",
    "    return 1 - (error/vari)"
   ]
  }
 ],
 "metadata": {
  "kernelspec": {
   "display_name": "Python 3 (ipykernel)",
   "language": "python",
   "name": "python3"
  },
  "language_info": {
   "codemirror_mode": {
    "name": "ipython",
    "version": 3
   },
   "file_extension": ".py",
   "mimetype": "text/x-python",
   "name": "python",
   "nbconvert_exporter": "python",
   "pygments_lexer": "ipython3",
   "version": "3.9.12"
  }
 },
 "nbformat": 4,
 "nbformat_minor": 5
}
