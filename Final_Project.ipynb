{
 "cells": [
  {
   "cell_type": "markdown",
   "metadata": {
    "collapsed": true
   },
   "source": [
    "# Final Project (Need Name)\n"
   ]
  },
  {
   "cell_type": "markdown",
   "metadata": {
    "collapsed": true
   },
   "source": [
    "\n",
    "## Introduction\n",
    "\n"
   ]
  },
  {
   "cell_type": "markdown",
   "metadata": {},
   "source": [
    "# Part 1: Load Data"
   ]
  },
  {
   "cell_type": "code",
   "execution_count": 1,
   "metadata": {
    "scrolled": true
   },
   "outputs": [],
   "source": [
    "import pandas as pd\n",
    "\n",
    "def read_data(filename):\n",
    "    df = pd.read_csv(filename)\n",
    "    return df\n",
    "\n",
    "\n",
    "#data = load_data(\"Project Data.csv\")\n",
    "#print(data['Year'])\n"
   ]
  },
  {
   "cell_type": "code",
   "execution_count": null,
   "metadata": {},
   "outputs": [],
   "source": [
    "#Column Names\n",
    "#Just copy and paste the names from here to retrieve the data\n",
    "\n",
    "\n",
    "\n",
    "#General Info\n",
    "'''\n",
    "'Year'\n",
    "'State'\n",
    "'County'\n",
    "'''\n",
    "\n",
    "\n",
    "#Uninsured\n",
    "'''\n",
    "'Uninsured #'\n",
    "'Uninsured %'\n",
    "'Uninsured 95% CI - Low'\n",
    "'Uninsured 95% CI - High'\n",
    "'Uninsured Z-Score'\n",
    "'''\n",
    "\n",
    "\n",
    "#Adults Uninsured\n",
    "'''\n",
    "'Adults Uninsured #'\n",
    "'Adults Uninsured %'\n",
    "'Adults Uninsured 95% CI - Low'\n",
    "'Adults Uninsured 95% CI - High'\n",
    "'''\n",
    "\n",
    "\n",
    "#Children Uninsured\n",
    "'''\n",
    "'Children Uninsured #'\n",
    "'Children Uninsured %'\n",
    "'Children Uninsured 95% CI - Low'\n",
    "'Children Uninsured 95% CI - High'\n",
    "'''\n",
    "\n",
    "#Unemployment\n",
    "'''\n",
    "'Unemployed #'\n",
    "'Labor Force'\n",
    "'Unemployed %'\n",
    "'Unemployed Z-Score'\n",
    "'''\n",
    "\n",
    "\n",
    "#Severe Housing Problems\n",
    "'''\n",
    "'Severe Housing Problems %'\n",
    "'Severe housing problems 95% CI - Low'\n",
    "'Severe housing problems 95% CI - High'\n",
    "'Severe Housing Cost Burden'\n",
    "'Overcrowding'\n",
    "'Inadequate Facilities'\n",
    "'Severe housing problems Z-Score'\n",
    "'Households with Severe Cost Burden #'\n",
    "'Severe Housing Cost Burden %'\n",
    "'Severe housing cost burden 95% CI - Low'\n",
    "'Severe housing cost burden 95% CI - High'\n",
    "'''\n",
    "\n",
    "#Homeowners\n",
    "'''\n",
    "'Homeowners #'\n",
    "'Homeowners %'\n",
    "'Homeowners 95% CI - Low'\n",
    "'Homeowners 95% CI - High'\n",
    "'''"
   ]
  }
 ],
 "metadata": {
  "kernelspec": {
   "display_name": "Python 3 (ipykernel)",
   "language": "python",
   "name": "python3"
  },
  "language_info": {
   "codemirror_mode": {
    "name": "ipython",
    "version": 3
   },
   "file_extension": ".py",
   "mimetype": "text/x-python",
   "name": "python",
   "nbconvert_exporter": "python",
   "pygments_lexer": "ipython3",
   "version": "3.9.12"
  }
 },
 "nbformat": 4,
 "nbformat_minor": 2
}
